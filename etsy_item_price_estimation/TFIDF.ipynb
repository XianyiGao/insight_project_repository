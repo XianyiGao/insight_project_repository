{
 "cells": [
  {
   "cell_type": "code",
   "execution_count": 1,
   "metadata": {},
   "outputs": [],
   "source": [
    "import nltk\n",
    "import string\n",
    "import os\n",
    "\n",
    "from sklearn.feature_extraction.text import TfidfVectorizer\n",
    "from nltk.stem.porter import PorterStemmer\n",
    "\n",
    "stemmer = PorterStemmer()\n",
    "\n",
    "def stem_tokens(tokens, stemmer):\n",
    "    stemmed = []\n",
    "    for item in tokens:\n",
    "        stemmed.append(stemmer.stem(item))\n",
    "    return stemmed\n",
    "\n",
    "def tokenize(text):\n",
    "    tokens = nltk.word_tokenize(text)\n",
    "    stems = stem_tokens(tokens, PorterStemmer())\n",
    "    return stems\n",
    "\n",
    "def tfidf_transform(textList):\n",
    "    token_dict = {}\n",
    "    \n",
    "    translator = str.maketrans('', '', string.punctuation)\n",
    "    for i in range(0, len(textList)):\n",
    "        text = textList[i]\n",
    "        lowers = text.lower()\n",
    "        str.maketrans('', '', string.punctuation)\n",
    "        no_punctuation = lowers.translate(translator)\n",
    "        token_dict[str(i)] = no_punctuation\n",
    "\n",
    "    #this can take some time\n",
    "    tfidf = TfidfVectorizer(tokenizer=tokenize, stop_words='english', max_features=100)\n",
    "    tfs = tfidf.fit_transform(token_dict.values())\n",
    "    return tfs"
   ]
  },
  {
   "cell_type": "code",
   "execution_count": null,
   "metadata": {},
   "outputs": [],
   "source": []
  }
 ],
 "metadata": {
  "kernelspec": {
   "display_name": "Python 3",
   "language": "python",
   "name": "python3"
  },
  "language_info": {
   "codemirror_mode": {
    "name": "ipython",
    "version": 3
   },
   "file_extension": ".py",
   "mimetype": "text/x-python",
   "name": "python",
   "nbconvert_exporter": "python",
   "pygments_lexer": "ipython3",
   "version": "3.6.4"
  }
 },
 "nbformat": 4,
 "nbformat_minor": 2
}

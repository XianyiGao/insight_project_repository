{
 "cells": [
  {
   "cell_type": "code",
   "execution_count": 34,
   "metadata": {},
   "outputs": [],
   "source": [
    "import datetime\n",
    "from ebaysdk.exception import ConnectionError\n",
    "from ebaysdk.finding import Connection\n",
    "import seaborn as sns\n",
    "import pandas as pd"
   ]
  },
  {
   "cell_type": "code",
   "execution_count": 39,
   "metadata": {},
   "outputs": [],
   "source": [
    "def ebay_item_extraction(searchingType, keywords, listingType, numOfPage, condition):\n",
    "#searchingType='findCompletedItems', keywords='Samsung S7 Smartphone', listingType='FixedPrice', numOfPage=100\n",
    "    overall_item_list = []\n",
    "    try:\n",
    "        price_list=[]\n",
    "        api = Connection(appid='XianyiGa-insighti-PRD-52ccbdebc-0752fbba', config_file=None)\n",
    "        for i in range(1,numOfPage+1):\n",
    "            response = api.execute(searchingType, {'keywords': keywords, \n",
    "                                                          'itemFilter': [{'name': 'ListingType', 'value': listingType}, \n",
    "                                                                         {'name': 'Condition', 'value': condition}],\n",
    "                                                          'paginationInput': {\n",
    "                                                          'entriesPerPage': '100',\n",
    "                                                          'pageNumber': str(i)},\n",
    "                                                         })\n",
    "            \n",
    "            \n",
    "            assert(response.reply.ack == 'Success')\n",
    "            assert(type(response.reply.timestamp) == datetime.datetime)\n",
    "            assert(type(response.reply.searchResult.item) == list)\n",
    "\n",
    "            item = response.reply.searchResult.item[0]\n",
    "            assert(type(item.listingInfo.endTime) == datetime.datetime)\n",
    "            assert(type(response.dict()) == dict)\n",
    "            item_list = response.reply.searchResult.item\n",
    "            end_item_index=len(item_list)\n",
    "            overall_item_list = overall_item_list + item_list\n",
    "            #print(end_item_index)\n",
    "            #print(dir(item_list[0]))\n",
    "            #print(dir(item_list[0].sellingStatus.currentPrice))\n",
    "            #print(item_list[0].sellingStatus.sellingState)\n",
    "            #print('listing info', dir(item_list[99].listingInfo.buyItNowPrice))\n",
    "            #print('Store inventory: ', dir(item_list[i].listingInfo.StoreInventory))\n",
    "            #print(item_list[0].listingInfo.listingType)\n",
    "            \n",
    "            #for i in range(0,end_item_index):\n",
    "                #print(item_list[i].listingInfo.listingType)\n",
    "                #print(item_list[i].sellingStatus.currentPrice)\n",
    "                #print(item_list[i].title, item_list[i].condition)\n",
    "            for i in range(0,end_item_index):\n",
    "                #print(item_list[i].listingInfo.listingType)\n",
    "                #print(item_list[i].sellingStatus.currentPrice.value)\n",
    "                price_list.append(float(item_list[i].sellingStatus.currentPrice.value))\n",
    "                #print(type(item_list[i].sellingStatus.currentPrice.value))\n",
    "                #print(item_list[i].title)\n",
    "        price_list = pd.Series(price_list, name=\"Price (Samsung S7 Smartphone)\")\n",
    "        sns.distplot(price_list)\n",
    "    except ConnectionError as e:\n",
    "        print(e)\n",
    "        print(e.response.dict())\n",
    "    return overall_item_list"
   ]
  },
  {
   "cell_type": "code",
   "execution_count": 42,
   "metadata": {},
   "outputs": [
    {
     "name": "stderr",
     "output_type": "stream",
     "text": [
      "/home/xianyi/anaconda3/envs/insight/lib/python3.6/site-packages/matplotlib/axes/_axes.py:6462: UserWarning: The 'normed' kwarg is deprecated, and has been replaced by the 'density' kwarg.\n",
      "  warnings.warn(\"The 'normed' kwarg is deprecated, and has been \"\n"
     ]
    },
    {
     "data": {
      "image/png": "[encoded data removed]",
      "text/plain": [
       "<Figure size 432x288 with 1 Axes>"
      ]
     },
     "metadata": {},
     "output_type": "display_data"
    }
   ],
   "source": [
    "overall_item_list = ebay_item_extraction(searchingType='findCompletedItems', keywords='Samsung S7 Smartphone', listingType='FixedPrice', numOfPage=1, condition='New')"
   ]
  },
  {
   "cell_type": "code",
   "execution_count": 33,
   "metadata": {},
   "outputs": [
    {
     "name": "stdout",
     "output_type": "stream",
     "text": [
      "200\n"
     ]
    }
   ],
   "source": []
  },
  {
   "cell_type": "code",
   "execution_count": null,
   "metadata": {},
   "outputs": [],
   "source": []
  }
 ],
 "metadata": {
  "kernelspec": {
   "display_name": "Python 3",
   "language": "python",
   "name": "python3"
  },
  "language_info": {
   "codemirror_mode": {
    "name": "ipython",
    "version": 3
   },
   "file_extension": ".py",
   "mimetype": "text/x-python",
   "name": "python",
   "nbconvert_exporter": "python",
   "pygments_lexer": "ipython3",
   "version": "3.6.4"
  }
 },
 "nbformat": 4,
 "nbformat_minor": 2
}
